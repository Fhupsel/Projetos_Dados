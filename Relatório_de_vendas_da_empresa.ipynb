{
  "nbformat": 4,
  "nbformat_minor": 0,
  "metadata": {
    "colab": {
      "provenance": [],
      "authorship_tag": "ABX9TyNbWU0e1SKbh1B/xRLaHKhi",
      "include_colab_link": true
    },
    "kernelspec": {
      "name": "python3",
      "display_name": "Python 3"
    },
    "language_info": {
      "name": "python"
    }
  },
  "cells": [
    {
      "cell_type": "markdown",
      "metadata": {
        "id": "view-in-github",
        "colab_type": "text"
      },
      "source": [
        "<a href=\"https://colab.research.google.com/github/Fhupsel/Projetos_Dados/blob/main/Relat%C3%B3rio_de_vendas_da_empresa.ipynb\" target=\"_parent\"><img src=\"https://colab.research.google.com/assets/colab-badge.svg\" alt=\"Open In Colab\"/></a>"
      ]
    },
    {
      "cell_type": "code",
      "execution_count": null,
      "metadata": {
        "id": "C0vmDQec9h8t",
        "colab": {
          "base_uri": "https://localhost:8080/",
          "height": 537
        },
        "outputId": "0ccdface-22f0-404c-a26e-627988fb743d"
      },
      "outputs": [
        {
          "output_type": "stream",
          "name": "stdout",
          "text": [
            "Looking in indexes: https://pypi.org/simple, https://us-python.pkg.dev/colab-wheels/public/simple/\n",
            "Collecting pdfplumber\n",
            "  Downloading pdfplumber-0.7.6-py3-none-any.whl (40 kB)\n",
            "\u001b[K     |████████████████████████████████| 40 kB 1.3 MB/s \n",
            "\u001b[?25hCollecting Wand>=0.6.10\n",
            "  Downloading Wand-0.6.10-py2.py3-none-any.whl (142 kB)\n",
            "\u001b[K     |████████████████████████████████| 142 kB 19.3 MB/s \n",
            "\u001b[?25hCollecting pdfminer.six==20221105\n",
            "  Downloading pdfminer.six-20221105-py3-none-any.whl (5.6 MB)\n",
            "\u001b[K     |████████████████████████████████| 5.6 MB 61.7 MB/s \n",
            "\u001b[?25hCollecting Pillow>=9.1\n",
            "  Downloading Pillow-9.3.0-cp38-cp38-manylinux_2_17_x86_64.manylinux2014_x86_64.whl (3.2 MB)\n",
            "\u001b[K     |████████████████████████████████| 3.2 MB 57.8 MB/s \n",
            "\u001b[?25hRequirement already satisfied: charset-normalizer>=2.0.0 in /usr/local/lib/python3.8/dist-packages (from pdfminer.six==20221105->pdfplumber) (2.1.1)\n",
            "Collecting cryptography>=36.0.0\n",
            "  Downloading cryptography-38.0.4-cp36-abi3-manylinux_2_24_x86_64.whl (4.0 MB)\n",
            "\u001b[K     |████████████████████████████████| 4.0 MB 16.8 MB/s \n",
            "\u001b[?25hRequirement already satisfied: cffi>=1.12 in /usr/local/lib/python3.8/dist-packages (from cryptography>=36.0.0->pdfminer.six==20221105->pdfplumber) (1.15.1)\n",
            "Requirement already satisfied: pycparser in /usr/local/lib/python3.8/dist-packages (from cffi>=1.12->cryptography>=36.0.0->pdfminer.six==20221105->pdfplumber) (2.21)\n",
            "Installing collected packages: cryptography, Wand, Pillow, pdfminer.six, pdfplumber\n",
            "  Attempting uninstall: Pillow\n",
            "    Found existing installation: Pillow 7.1.2\n",
            "    Uninstalling Pillow-7.1.2:\n",
            "      Successfully uninstalled Pillow-7.1.2\n",
            "Successfully installed Pillow-9.3.0 Wand-0.6.10 cryptography-38.0.4 pdfminer.six-20221105 pdfplumber-0.7.6\n"
          ]
        },
        {
          "output_type": "display_data",
          "data": {
            "application/vnd.colab-display-data+json": {
              "pip_warning": {
                "packages": [
                  "PIL"
                ]
              }
            }
          },
          "metadata": {}
        }
      ],
      "source": [
        "!pip install pdfplumber"
      ]
    },
    {
      "cell_type": "code",
      "source": [
        "from google.colab import drive"
      ],
      "metadata": {
        "id": "_J4S7VFHaojh"
      },
      "execution_count": null,
      "outputs": []
    },
    {
      "cell_type": "code",
      "source": [
        "import pdfplumber\n",
        "import os"
      ],
      "metadata": {
        "id": "iv5Re1c_awm7"
      },
      "execution_count": null,
      "outputs": []
    },
    {
      "cell_type": "code",
      "source": [
        "drive.mount(\"/content/gdrive\")"
      ],
      "metadata": {
        "colab": {
          "base_uri": "https://localhost:8080/"
        },
        "id": "V-91036Wazmh",
        "outputId": "5f49c25d-8216-42ea-f87e-cf27f4fe9de8"
      },
      "execution_count": null,
      "outputs": [
        {
          "output_type": "stream",
          "name": "stdout",
          "text": [
            "Mounted at /content/gdrive\n"
          ]
        }
      ]
    },
    {
      "cell_type": "code",
      "source": [
        "#Mudando o endereço\n",
        "os.chdir(\"/content/gdrive/MyDrive/relatorios\")"
      ],
      "metadata": {
        "id": "dVRic6WvbGCB"
      },
      "execution_count": null,
      "outputs": []
    },
    {
      "cell_type": "code",
      "source": [
        "#Listando os arquivos\n",
        "arq = os.listdir()\n",
        "print(arq)"
      ],
      "metadata": {
        "colab": {
          "base_uri": "https://localhost:8080/"
        },
        "id": "Dfj0tylbfWHi",
        "outputId": "10954bea-f4f5-4b7f-e66b-67bb80cdfed0"
      },
      "execution_count": null,
      "outputs": [
        {
          "output_type": "stream",
          "name": "stdout",
          "text": [
            "['20200805.pdf', '20200801.pdf', '20200803.pdf', '20200802.pdf', '20200804.pdf']\n"
          ]
        }
      ]
    },
    {
      "cell_type": "code",
      "source": [
        "rel = pdfplumber.open(\"/content/gdrive/MyDrive/relatorios/20200801.pdf\")\n",
        "rel.pages\n",
        "pag = rel.pages[0]\n",
        "text = pag.extract_text()\n",
        "print(text)"
      ],
      "metadata": {
        "colab": {
          "base_uri": "https://localhost:8080/"
        },
        "id": "1_FWSJSbgGr9",
        "outputId": "bd3b75d3-7a62-4a5d-ee95-cd2d1a7b38c8"
      },
      "execution_count": null,
      "outputs": [
        {
          "output_type": "stream",
          "name": "stdout",
          "text": [
            "SIGMOIDAL\t\n",
            "\t \t\n",
            "Relatório\tDiário\t\n",
            "Data:\t01/08/2020\t\n",
            "\t\n",
            "\t\n",
            "RECEITA:\tR$\t1297.00\t\n",
            "DADOS\tATUALIZADOS\tPOR\tCARLOS\tMELO\t\n",
            "\t\n",
            "\t\n",
            "Visitantes:\t1367\t\n",
            "A\tquantidade\tde\tvisitantes\tdiz\trespeito\ta\tvisitantes\túnicos\tvisitando\tqualquer\t\n",
            "página\tdo\tdomínio\tou\tsubdomínio\tsigmoidal.ai.\tCompreende,\tentão,\tcursos,\t\n",
            "blogs\te\tlanding\tpages.\t\n",
            "\t\n",
            "Inscritos:\t33\t\n",
            "É\tconsiderado\taqui\to\tnúmero\tde\tleads\tgerados\tpor\tmeio\tde\tcadastro\t\n",
            "voluntário\tnos\tformulários\tdo\tcabeçalho,\trodapé\tou\tmateriais\tricos\t(como\t\n",
            "eBook,\tinfográficos,\tentre\toutros).\t\n",
            "\t\n",
            "Assinantes:\t6\t\n",
            "Clientes\tassinantes\tda\tEscola\tde\tData\tScience,\tconsiderando-se\to\tplano\t\n",
            "renovável\tde\tassinatura\tmensal.\t\n",
            "\t\n"
          ]
        }
      ]
    },
    {
      "cell_type": "code",
      "source": [
        "#Receita---> Linha 7 (Índice 6)\n",
        "text.split(\"\\n\")"
      ],
      "metadata": {
        "colab": {
          "base_uri": "https://localhost:8080/"
        },
        "id": "KelNdGl5xzbG",
        "outputId": "695527fc-e0d6-4c42-96fd-ea25e5409ee5"
      },
      "execution_count": null,
      "outputs": [
        {
          "output_type": "execute_result",
          "data": {
            "text/plain": [
              "['SIGMOIDAL\\t',\n",
              " '\\t \\t',\n",
              " 'Relatório\\tDiário\\t',\n",
              " 'Data:\\t01/08/2020\\t',\n",
              " '\\t',\n",
              " '\\t',\n",
              " 'RECEITA:\\tR$\\t1297.00\\t',\n",
              " 'DADOS\\tATUALIZADOS\\tPOR\\tCARLOS\\tMELO\\t',\n",
              " '\\t',\n",
              " '\\t',\n",
              " 'Visitantes:\\t1367\\t',\n",
              " 'A\\tquantidade\\tde\\tvisitantes\\tdiz\\trespeito\\ta\\tvisitantes\\túnicos\\tvisitando\\tqualquer\\t',\n",
              " 'página\\tdo\\tdomínio\\tou\\tsubdomínio\\tsigmoidal.ai.\\tCompreende,\\tentão,\\tcursos,\\t',\n",
              " 'blogs\\te\\tlanding\\tpages.\\t',\n",
              " '\\t',\n",
              " 'Inscritos:\\t33\\t',\n",
              " 'É\\tconsiderado\\taqui\\to\\tnúmero\\tde\\tleads\\tgerados\\tpor\\tmeio\\tde\\tcadastro\\t',\n",
              " 'voluntário\\tnos\\tformulários\\tdo\\tcabeçalho,\\trodapé\\tou\\tmateriais\\tricos\\t(como\\t',\n",
              " 'eBook,\\tinfográficos,\\tentre\\toutros).\\t',\n",
              " '\\t',\n",
              " 'Assinantes:\\t6\\t',\n",
              " 'Clientes\\tassinantes\\tda\\tEscola\\tde\\tData\\tScience,\\tconsiderando-se\\to\\tplano\\t',\n",
              " 'renovável\\tde\\tassinatura\\tmensal.\\t',\n",
              " '\\t']"
            ]
          },
          "metadata": {},
          "execution_count": 8
        }
      ]
    },
    {
      "cell_type": "code",
      "source": [
        "receita = text.split(\"\\n\")[6].replace(\"\\t\", \"\").split(\"R$\")\n",
        "receita"
      ],
      "metadata": {
        "colab": {
          "base_uri": "https://localhost:8080/"
        },
        "id": "Z6s_3mlU2_3N",
        "outputId": "e26a32d1-003a-4ead-ef0a-6b1020a15052"
      },
      "execution_count": null,
      "outputs": [
        {
          "output_type": "execute_result",
          "data": {
            "text/plain": [
              "['RECEITA:', '1297.00']"
            ]
          },
          "metadata": {},
          "execution_count": 9
        }
      ]
    },
    {
      "cell_type": "code",
      "source": [
        "val = float(receita[1])\n",
        "print(val)"
      ],
      "metadata": {
        "colab": {
          "base_uri": "https://localhost:8080/"
        },
        "id": "noO1_tM43STV",
        "outputId": "8aa5aad4-8e7c-472d-8626-3424a8a9d391"
      },
      "execution_count": null,
      "outputs": [
        {
          "output_type": "stream",
          "name": "stdout",
          "text": [
            "1297.0\n"
          ]
        }
      ]
    },
    {
      "cell_type": "code",
      "source": [
        "#Automatização\n",
        "soma = 0\n",
        "for arquivo in arq:\n",
        "  rel = pdfplumber.open(arquivo)\n",
        "  pag = rel.pages[0]\n",
        "  text = pag.extract_text()\n",
        "  receita = text.split(\"\\n\")[6].replace(\"\\t\", \"\").split(\"R$\")\n",
        "  val = float(receita[1])\n",
        "  soma = soma + val\n",
        "print(\"A receita da semana foi: \",soma)"
      ],
      "metadata": {
        "colab": {
          "base_uri": "https://localhost:8080/"
        },
        "id": "nn16jYuvBIK7",
        "outputId": "7a30fcc2-b8e3-4a60-a19b-e81a2870d34b"
      },
      "execution_count": null,
      "outputs": [
        {
          "output_type": "stream",
          "name": "stdout",
          "text": [
            "A receita da semana foi:  5096.0\n"
          ]
        }
      ]
    },
    {
      "cell_type": "code",
      "source": [],
      "metadata": {
        "id": "wgq58UNhVeLW"
      },
      "execution_count": null,
      "outputs": []
    }
  ]
}