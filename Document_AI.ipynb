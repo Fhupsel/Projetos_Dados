{
  "nbformat": 4,
  "nbformat_minor": 0,
  "metadata": {
    "colab": {
      "provenance": [],
      "authorship_tag": "ABX9TyPE02ggjhxZNOiZzZqdV84t",
      "include_colab_link": true
    },
    "kernelspec": {
      "name": "python3",
      "display_name": "Python 3"
    },
    "language_info": {
      "name": "python"
    }
  },
  "cells": [
    {
      "cell_type": "markdown",
      "metadata": {
        "id": "view-in-github",
        "colab_type": "text"
      },
      "source": [
        "<a href=\"https://colab.research.google.com/github/Fhupsel/Projetos_Dados/blob/main/Document_AI.ipynb\" target=\"_parent\"><img src=\"https://colab.research.google.com/assets/colab-badge.svg\" alt=\"Open In Colab\"/></a>"
      ]
    },
    {
      "cell_type": "code",
      "source": [
        "from google.colab import drive\n",
        "drive.mount('/content/drive')"
      ],
      "metadata": {
        "colab": {
          "base_uri": "https://localhost:8080/"
        },
        "id": "B0Vtkc9XqqQi",
        "outputId": "039346d5-cc84-4aa5-ede1-448455d30b44"
      },
      "execution_count": null,
      "outputs": [
        {
          "output_type": "stream",
          "name": "stdout",
          "text": [
            "Mounted at /content/drive\n"
          ]
        }
      ]
    },
    {
      "cell_type": "code",
      "source": [
        "!pip install --upgrade google-cloud-documentai\n",
        "!pip install googlemaps"
      ],
      "metadata": {
        "id": "RDWfUh5ksO_M"
      },
      "execution_count": null,
      "outputs": []
    },
    {
      "cell_type": "code",
      "source": [
        "from google.oauth2 import service_account\n",
        "from typing import List, Sequence\n",
        "import pandas as pd\n",
        "from google.api_core.client_options import ClientOptions\n",
        "from google.cloud import documentai_v1 as documentai\n",
        "import json\n",
        "import googlemaps\n",
        "from datetime import datetime\n",
        "import matplotlib.pyplot as plt"
      ],
      "metadata": {
        "id": "bh1z8uvBsSUz"
      },
      "execution_count": null,
      "outputs": []
    },
    {
      "cell_type": "code",
      "source": [
        "key_path = \"/content/drive/MyDrive/BI gcp - 4/bi-gcp-382113-f4a1a2a0c50d.json\"\n",
        "%env GOOGLE_APPLICATION_CREDENTIALS=$key_path"
      ],
      "metadata": {
        "id": "YP_ot1BDsjjt",
        "colab": {
          "base_uri": "https://localhost:8080/"
        },
        "outputId": "3cfc9ca5-4eae-4c6c-bf0d-dff655d6cc22"
      },
      "execution_count": null,
      "outputs": [
        {
          "output_type": "stream",
          "name": "stdout",
          "text": [
            "env: GOOGLE_APPLICATION_CREDENTIALS=/content/drive/MyDrive/BI gcp - 4/bi-gcp-382113-f4a1a2a0c50d.json\n"
          ]
        }
      ]
    },
    {
      "cell_type": "code",
      "source": [
        "# TODO(developer): Uncomment these variables before running the sample.\n",
        "project_id = '179665391328'\n",
        "location = 'us' # Format is 'us' or 'eu'\n",
        "processor_id = '38aca51b4fab9399' #  Create processor before running sample\n",
        "file_path = '/content/Exemplo OCR pdf.pdf'\n",
        "mime_type = 'application/pdf' # Refer to https://cloud.google.com/document-ai/docs/file-types for supported file types\n",
        "\n",
        "\n",
        "def quickstart(\n",
        "    project_id: str, location: str, processor_id: str, file_path: str, mime_type: str\n",
        "):\n",
        "    # You must set the api_endpoint if you use a location other than 'us'.\n",
        "    opts = ClientOptions(api_endpoint=f\"{location}-documentai.googleapis.com\")\n",
        "\n",
        "    client = documentai.DocumentProcessorServiceClient(client_options=opts)\n",
        "\n",
        "    # The full resource name of the processor, e.g.:\n",
        "    # projects/project_id/locations/location/processor/processor_id\n",
        "    name = client.processor_path(project_id, location, processor_id)\n",
        "\n",
        "    # Read the file into memory\n",
        "    # \"rb\" --> Read binary\n",
        "    with open(file_path, \"rb\") as image:\n",
        "        image_content = image.read()\n",
        "\n",
        "    # Load Binary Data into Document AI RawDocument Object\n",
        "    raw_document = documentai.RawDocument(content=image_content, mime_type=mime_type)\n",
        "\n",
        "    # Configure the process request\n",
        "    request = documentai.ProcessRequest(name=name, raw_document=raw_document)\n",
        "\n",
        "    result = client.process_document(request=request)\n",
        "\n",
        "    # For a full list of Document object attributes, please reference this page:\n",
        "    # https://cloud.google.com/python/docs/reference/documentai/latest/google.cloud.documentai_v1.types.Document\n",
        "    document = result.document\n",
        "\n",
        "    # Read the text recognition output from the processor\n",
        "    print(\"The document contains the following text:\")\n",
        "    print(document.text)\n",
        "\n",
        "    return document"
      ],
      "metadata": {
        "id": "M3QQdk425FZ-"
      },
      "execution_count": null,
      "outputs": []
    },
    {
      "cell_type": "code",
      "source": [
        "document = quickstart(project_id, location, processor_id, file_path, mime_type)"
      ],
      "metadata": {
        "colab": {
          "base_uri": "https://localhost:8080/"
        },
        "id": "SHk3gwvI7Jps",
        "outputId": "1806b8a0-7e69-47b0-d217-1c432815ee3a"
      },
      "execution_count": null,
      "outputs": [
        {
          "output_type": "stream",
          "name": "stdout",
          "text": [
            "The document contains the following text:\n",
            "CONCLUSÃO\n",
            "1-1\n",
            "dia. Exige\n",
            "Aprender a programar não acontece da noite para\n",
            "dedicação e foco. Entretanto, nunca antes na história da humanidade, o\n",
            "conhecimento esteve tão disponível e democrático.\n",
            "--\n",
            "A internet possibilita que cursos inteiros de faculdades renomadas\n",
            "estejam disponíveis, assim como vídeos e artigos em blogs (ou Medium).\n",
            "Felipe Hupsel - felipehupsel@icloud.com - IP: 189.127.182.240\n",
            "[mm]\n",
            "Mais de metade das profissões tendem a desaparecer nos próximos\n",
            "10. Você tem a sorte de saber disso com antecipação.\n",
            "Que tal reservar algumas horinhas na semana para se dedicar a algo como\n",
            "Python e Data Science?\n",
            "5\n",
            "Nunca se esqueça que daqui a 10 anos, você vai desejar ter\n",
            "começado hoje ;)\n",
            "SIGMOIDAL\n",
            "\n"
          ]
        }
      ]
    }
  ]
}